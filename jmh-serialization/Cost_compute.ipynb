{
  "nbformat": 4,
  "nbformat_minor": 0,
  "metadata": {
    "colab": {
      "provenance": []
    },
    "kernelspec": {
      "name": "python3",
      "display_name": "Python 3"
    },
    "language_info": {
      "name": "python"
    }
  },
  "cells": [
    {
      "cell_type": "code",
      "execution_count": null,
      "metadata": {
        "id": "K2ZVLXp-T7LA"
      },
      "outputs": [],
      "source": [
        "import matplotlib.pyplot as plt\n",
        "\n",
        "# 数据\n",
        "tools = [\"Kryo\", \"Protobuf\", \"Fury\", \"ProtoStuff\"]\n",
        "compression_rates = [0.9147, 0.8813, 0.8468, 0.8961]  # 不同工具的压缩率\n",
        "serialization_times = [118, 145, 196, 54 + 95]  # 不同工具的总序列化耗时（us）\n",
        "costs = []  # 存储每个工具的成本\n",
        "\n",
        "# 常量\n",
        "data_size = 141000  # 数据大小（Bytes）\n",
        "storage_cost_per_gb = 0.12  # 存储费用（RMB/GB/Month）\n",
        "cpu_cost_per_us = 0.08  # CPU使用费用（RMB/hour）\n",
        "bandwidth_cost_per_gb = 0.8 # 流量使用费用（RMB/GB）\n",
        "\n",
        "# 计算成本\n",
        "for i in range(len(tools)):\n",
        "    c = compression_rates[i]\n",
        "    t = serialization_times[i]\n",
        "    cost = ((1 - c) * data_size * (storage_cost_per_gb * 1e-9 / 30 + bandwidth_cost_per_gb * 1e-9)  + cpu_cost_per_us * t / 3600/ 10e6) * 10000\n",
        "    costs.append(cost)\n",
        "\n",
        "# 创建一个条形图，调整柱形的宽度\n",
        "plt.figure(figsize=(8, 4))\n",
        "bars = plt.barh(tools, costs, color=['#1f77b4', '#ff7f0e', '#2ca02c'], height=0.6)  # 调整height参数以设置柱形的宽度\n",
        "\n",
        "# 添加标签和标题\n",
        "plt.xlabel('Cost (RMB)')\n",
        "plt.ylabel('Serialization Tool')\n",
        "plt.title('Cost Comparison for Different Serialization Tools')\n",
        "\n",
        "# 在每个柱形的右侧添加数值标签\n",
        "for bar, cost in zip(bars, costs):\n",
        "    plt.text(bar.get_width(), bar.get_y() + bar.get_height() / 2, f'{cost:.6f} RMB', va='center')\n",
        "\n",
        "# 显示条形图\n",
        "plt.tight_layout()\n",
        "plt.show()"
      ]
    }
  ]
}